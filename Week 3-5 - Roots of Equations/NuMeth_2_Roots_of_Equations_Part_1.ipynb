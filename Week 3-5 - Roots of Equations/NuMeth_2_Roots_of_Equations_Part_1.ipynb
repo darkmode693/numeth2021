{
  "nbformat": 4,
  "nbformat_minor": 0,
  "metadata": {
    "colab": {
      "name": "NuMeth 2 - Roots of Equations Part 1",
      "provenance": [],
      "authorship_tag": "ABX9TyPlrz6WJYw1zL8QOIYF1VkK",
      "include_colab_link": true
    },
    "kernelspec": {
      "name": "python3",
      "display_name": "Python 3"
    }
  },
  "cells": [
    {
      "cell_type": "markdown",
      "metadata": {
        "id": "view-in-github",
        "colab_type": "text"
      },
      "source": [
        "<a href=\"https://colab.research.google.com/github/dyjdlopez/numeth2021/blob/main/Week%203-5%20-%20Roots%20of%20Equations/NuMeth_2_Roots_of_Equations_Part_1.ipynb\" target=\"_parent\"><img src=\"https://colab.research.google.com/assets/colab-badge.svg\" alt=\"Open In Colab\"/></a>"
      ]
    },
    {
      "cell_type": "markdown",
      "metadata": {
        "id": "yFqNW7jIDJaY"
      },
      "source": [
        "# Roots of Equations\r\n",
        "$_{\\text{©D.J. Lopez | 2021 | Computational Methods for Computer Engineers}}$\r\n",
        "\r\n",
        "Many problems in engineering, the sciences, and cognitive computing is founded on root-finding algorithms. In this module, we will discuss how to algorithmically solve for the roots of non-linear equations (i.e. equations of higher-order and transcendental functions). We will discuss several methods in solving the roots of these equations. The coverage of the module is as follows:\r\n",
        "* Review of Roots\r\n",
        "* Simple Iteration Method (Brute Force)\r\n",
        "* Convergence vs. Divergence\r\n",
        "* Newton-Rhapson Method\r\n",
        "* Bisection Method\r\n",
        "* Regula Falsi Method (False Position) \r\n",
        "* Secant Method\r\n",
        "* Python Functions for Roots\r\n",
        "* Applications of Root-finding"
      ]
    },
    {
      "cell_type": "markdown",
      "metadata": {
        "id": "q0LAjlS-GQzP"
      },
      "source": [
        "## 2.1 What are roots again?\r\n",
        "\r\n",
        "Several engineering and scientific problems can be formulated in terms of finding the value/s of some parameter or variable $x$ which results in a zero value of some function of that variable (i.e. stability, entropy, equivalency). Mathematically, this is represented by:\r\n",
        "\r\n",
        "$$F(x)=0 \r\n",
        "\\\\ _{\\text{(Eq. 2.1.1)}}$$ \r\n",
        "Whereas $F(x)$ is some function of $x$. These functions could be polynomials:\r\n",
        "\r\n",
        "$$F(x)=a_0+a_1x+a_2x^2+a_3x^3+...+a_1x^n \r\n",
        "\\\\ _{\\text{(Eq. 2.1.2)}}$$\r\n",
        "Whereas $a_k$ is a numerical coefficient that could be any real number while $x^k$ is the parameter or variable in the polynomial.\r\n",
        "\r\n",
        "$F(x)$ could also be transcendental functions:\r\n",
        "\r\n",
        "$$F(x)=2e^{x+1}+3e^{(x+1)^2} \r\n",
        "\\\\ _{\\text{(Eq. 2.1.3)}}$$\r\n",
        "Transcendental functions are functions that are expressible as a finite combination of the algebraic operations of addition, subtraction, multiplication, division, raising to a power, and extracting a root. They could include but are not limited to trigonometric functions, exponential functions, or logarithmic functions."
      ]
    },
    {
      "cell_type": "markdown",
      "metadata": {
        "id": "dneITzgFNaEt"
      },
      "source": [
        "### Manual Computation\r\n",
        "\r\n",
        "A traditional practice in engineering mathematics or any traditional mathematics class is to solve for the roots using pen and paper or using a standard equation such as the quadratic formula:\r\n",
        "\r\n",
        "$$x = \\frac{-b\\pm\\sqrt{b^2-4ac}}{2a} \r\n",
        "\\\\ _{\\text{(Eq. 2.1.4)}}$$\r\n",
        "We can apply Eq. 2.1.4 to a quadratic equation, for example with:\r\n",
        "$$F(x)=x^2+x-2$$\r\n",
        "We can derive the roots $x_0=-2$ and $x_1=1$. This satisfies the condition of Eg. 2.1.1, whereupon setting the pre-image of the function to the roots $x_0$ and $x_1$ will yield an image of 0.\r\n",
        "\r\n",
        "We can go further in visualizing the roots and its function using Python."
      ]
    },
    {
      "cell_type": "code",
      "metadata": {
        "id": "6uSnzzZqSVJC"
      },
      "source": [
        "import numpy as np\r\n",
        "import matplotlib.pyplot as plt"
      ],
      "execution_count": null,
      "outputs": []
    },
    {
      "cell_type": "code",
      "metadata": {
        "id": "Mp2DGmaSRrdi"
      },
      "source": [
        "### First we define f(x) as a user-defined function\r\n",
        "def f(x): return x**2+x-2\r\n",
        "### Without doing any programmatic solution we'll set\r\n",
        "### x_0 and x_1 with the values we solved.\r\n",
        "x0, x1 = -2, 1"
      ],
      "execution_count": null,
      "outputs": []
    },
    {
      "cell_type": "code",
      "metadata": {
        "id": "UB8WMRP8SLGy"
      },
      "source": [
        "### Next we need to define the range of values for\r\n",
        "### the pre-images.\r\n",
        "X = np.arange(-5,5,1,dtype=float)\r\n",
        "print(X[0:10])"
      ],
      "execution_count": null,
      "outputs": []
    },
    {
      "cell_type": "code",
      "metadata": {
        "id": "3h3vrZhaSuJ3"
      },
      "source": [
        "### Let's now determine the images of our function\r\n",
        "### We can do this by setting the input of our user-\r\n",
        "### defined function with the set of pre-images we\r\n",
        "### defined earlier.\r\n",
        "Y = f(X)\r\n",
        "print(Y[0:10])"
      ],
      "execution_count": null,
      "outputs": []
    },
    {
      "cell_type": "code",
      "metadata": {
        "id": "_4T0CJYSThTq"
      },
      "source": [
        "### Now let's plot the images against the pre-images\r\n",
        "plt.figure(figsize=(10,5))\r\n",
        "plt.plot(X,Y,color='dodgerblue')\r\n",
        "### Let's show the x and y axes of the graph\r\n",
        "plt.axhline(color='black')\r\n",
        "plt.axvline(color='black')\r\n",
        "plt.grid()\r\n",
        "### Now let's plot the roots of the equation\r\n",
        "plt.scatter([x0,x1],[0,0], c='red', label='roots')\r\n",
        "\r\n",
        "plt.legend()\r\n",
        "plt.show()"
      ],
      "execution_count": null,
      "outputs": []
    },
    {
      "cell_type": "markdown",
      "metadata": {
        "id": "bNjYgCoWgMEQ"
      },
      "source": [
        "#### **Activity 2.1** \r\n",
        "1. Identify **two more polynomials** preferably **orders higher than 2** and **two transcendental functions**. Write them in **LaTex**.\r\n",
        "2. Plot their graphs you may choose your own set of pre-images.\r\n",
        "3. Manually solve for their roots and plot them along the graph of the equation.\r\n",
        "\r\n",
        "Use the space the space below for your answers."
      ]
    },
    {
      "cell_type": "markdown",
      "metadata": {
        "id": "JCylkKwihWfg"
      },
      "source": [
        "*Space for your equations in LaTeX*"
      ]
    },
    {
      "cell_type": "code",
      "metadata": {
        "id": "AVfac6CihbCR"
      },
      "source": [
        "## Space for your code. You can add more cells if you want."
      ],
      "execution_count": null,
      "outputs": []
    },
    {
      "cell_type": "markdown",
      "metadata": {
        "id": "s4P87Q4tii94"
      },
      "source": [
        "### Computational Methods\r\n",
        "In modern mathematics, especially for the practice of Physics, Computer Science, and Computer Engineering, we will harness the power of computers in solving for problems such as root-finding. For the rest of this course, we will use Python in applying numerical methods.\r\n",
        "\r\n",
        "Computational methods or techniques translate the traditional mathematical, statistical, and scientific models or equations to computer programming aiming to increse the efficiency and applicability of these models to actual use. Understanding and practicing these methods will eventually lead to the fields e.g. Computational Physics and Artificial Intelligence. The famous programming languages used by scientists and engineers in practicing computational methods include:\r\n",
        "* Python\r\n",
        "* MATLab\r\n",
        "* R\r\n",
        "* Fortran\r\n",
        "* F#\r\n",
        "* C++ "
      ]
    },
    {
      "cell_type": "markdown",
      "metadata": {
        "id": "IxT9iZ_DGW9l"
      },
      "source": [
        "## 2.2 Simple Iteration Method (Brute Force)\r\n",
        "The first method that we will use in applying computational methods is through iterative methods. These methods are called **iterative** because the algorithms that will be designed will utilize iterations or looping statements.\r\n",
        "\r\n",
        "The easiest way to start with these iterative methods is through the *brute force* method. It's called brute force because we will use a linear search for finding the roots of equations. Brute force are rarely used in deployment of computational models because they are inefficient for higher degree equations."
      ]
    },
    {
      "cell_type": "markdown",
      "metadata": {
        "id": "-NJMgMRLmjKn"
      },
      "source": [
        "### 2.2.1 Brute Force Algorithm ($F(x)=0$)\r\n",
        "1. Set the function $f(x)$.\r\n",
        "2. Set the number of iterations\r\n",
        "3. Set a seed value or a starting guess as $h$. Usually zero.\r\n",
        "4. Apply the current $h$ to $f(x)$.\r\n",
        "5. Check whether the image produced is 0. (Eq. 2.1.1)\r\n",
        "6. If $f(h) \\not\\approx 0$, then repeat again from (4).\r\n",
        "7. If $f(h) \\approx 0$, then $x_{root}=h$.\r\n",
        "\r\n"
      ]
    },
    {
      "cell_type": "code",
      "metadata": {
        "id": "mwJPCiJor0_Y"
      },
      "source": [
        "def f(x): return x**2+x-2\r\n",
        "def g(x): return x**3+3*x**2+-4*x"
      ],
      "execution_count": null,
      "outputs": []
    },
    {
      "cell_type": "code",
      "metadata": {
        "id": "HZ0XMBhcsPA1"
      },
      "source": [
        "## Finding one root\r\n",
        "epochs = 100\r\n",
        "x_root = None\r\n",
        "end_iter = 0\r\n",
        "h = -10\r\n",
        "for epoch in range(epochs):\r\n",
        "  y = f(h)\r\n",
        "  if np.allclose(f(h),0):\r\n",
        "    x_root = h\r\n",
        "    end_iter = epoch\r\n",
        "    break\r\n",
        "  else:\r\n",
        "    h+=1\r\n",
        "print(f\"Identified root is {x_root}, found in {end_iter} epochs.\")"
      ],
      "execution_count": null,
      "outputs": []
    },
    {
      "cell_type": "code",
      "metadata": {
        "id": "B5F08o_4ugmp"
      },
      "source": [
        "## Finding n number of roots\r\n",
        "n_roots = 2\r\n",
        "epochs = 100\r\n",
        "x_roots = []\r\n",
        "end_iter = 0\r\n",
        "h = -10\r\n",
        "for epoch in range(epochs):\r\n",
        "  print(f\"Current epoch: {epoch}, h={h}, F(x)={f(h)}\")\r\n",
        "  if np.allclose(f(h),0):    \r\n",
        "    x_roots.insert(len(x_roots), h) \r\n",
        "    end_iter = epoch\r\n",
        "    if len(x_roots) == n_roots:\r\n",
        "      break\r\n",
        "  h+=1\r\n",
        "  \r\n",
        "print(f\"Identified roots are {x_roots}, found in {end_iter+1} epochs.\")"
      ],
      "execution_count": null,
      "outputs": []
    },
    {
      "cell_type": "markdown",
      "metadata": {
        "id": "J4_u2zmK1nXD"
      },
      "source": [
        "### 2.2.2 Brute Force Algorithm (In terms of X)\r\n",
        "1. Rearrange where the a single order of x is on one side of the equation.\r\n",
        "2. Set/Assume initial value of root. Usually 0.\r\n",
        "3. Calculate the new value of $x$ as $x'$ by substituting the current value of $x$ to the equation in (1).\r\n",
        "4. If $x' \\approx x$ then $x'$ is a root.\r\n",
        "5. If $x' \\not\\approx x$ then $x'$ is not a root. Repeat from (3)."
      ]
    },
    {
      "cell_type": "code",
      "metadata": {
        "id": "E7Gqr6IC3sID"
      },
      "source": [
        "#def f(x): return x**2+x-2\r\n",
        "def f1(x): return 2-x**2\r\n",
        "def f2(x): return np.sqrt(2-x)"
      ],
      "execution_count": null,
      "outputs": []
    },
    {
      "cell_type": "code",
      "metadata": {
        "id": "Jr1En-Cm1mz-"
      },
      "source": [
        "## Solving for a single root\r\n",
        "x = 0\r\n",
        "epochs = 100\r\n",
        "for epoch in range(epochs):\r\n",
        "  x_prime = f1(x)\r\n",
        "  print(f\"Current epoch: {epoch}, x'={x_prime}\")\r\n",
        "  if np.allclose(x, x_prime):\r\n",
        "    break\r\n",
        "  x = x_prime\r\n",
        "print(x)"
      ],
      "execution_count": null,
      "outputs": []
    },
    {
      "cell_type": "code",
      "metadata": {
        "id": "BKsZ4xhc5a8J"
      },
      "source": [
        "## Solving for n number of roots\r\n",
        "funcs = [f1, f2]\r\n",
        "n_roots = 2\r\n",
        "roots = []\r\n",
        "epochs = 100\r\n",
        "for func in funcs:\r\n",
        "  print('----Trying new function to get roots...')\r\n",
        "  x = 0\r\n",
        "  for epoch in range(epochs):    \r\n",
        "    x_prime = func(x)\r\n",
        "    print(f\"Current epoch: {epoch}, dx={func(x)}\")\r\n",
        "    if np.allclose(x, x_prime,1e-05):\r\n",
        "      roots.insert(len(roots),x_prime)\r\n",
        "      break    \r\n",
        "    x = x_prime\r\n",
        "print(roots)"
      ],
      "execution_count": null,
      "outputs": []
    },
    {
      "cell_type": "markdown",
      "metadata": {
        "id": "rqbWetlhGafF"
      },
      "source": [
        "## 2.3 Convergent and Divergent Algorithms\r\n",
        "It is important to identify success of your algorithms. One way to see whether a computational method is solving a problem i.e. finding roots or optimizing equations is to determine if the solution you are developing is converging or diverging to the answer.\r\n",
        "\r\n",
        "**Convergence**\r\n",
        "\r\n",
        "When we talk about the convergence of a solution, it pertains to the gradient of similarity between the current solution and the theoretical solution. If this were repsented in a graph, it would look like two similar graphs joining together after several epochs or iterations (Fig. 2.1). \r\n",
        "\r\n",
        "**Divergence**\r\n",
        "\r\n",
        "Divergence would then pertain to the event in which the answers that you are producing and the theoretical solutions do not meet each other or they split away from each other (Fig. 2.2)."
      ]
    },
    {
      "cell_type": "code",
      "metadata": {
        "id": "w61Iy40RGG3p"
      },
      "source": [
        "def k(x): return (2*x**3+0.5*x+20)**0.25"
      ],
      "execution_count": null,
      "outputs": []
    },
    {
      "cell_type": "code",
      "metadata": {
        "id": "EMUGLuxO_DNp"
      },
      "source": [
        "x = 0\r\n",
        "epochs = 10\r\n",
        "history_x = []\r\n",
        "history_x_prime = []\r\n",
        "for epoch in range(epochs):\r\n",
        "  x_prime = k(x)\r\n",
        "  history_x.append(x)\r\n",
        "  history_x_prime.append(x_prime)\r\n",
        "  if np.allclose(x, x_prime, 1.0e-6):\r\n",
        "    break\r\n",
        "  x = x_prime"
      ],
      "execution_count": null,
      "outputs": []
    },
    {
      "cell_type": "code",
      "metadata": {
        "id": "E9VeSjjj_4VU"
      },
      "source": [
        "history_x = history_x[0:]\r\n",
        "history_x_prime = history_x_prime[0:]\r\n",
        "x_range = np.arange(len(history_x),dtype=int)\r\n",
        "\r\n",
        "plt.figure(figsize=(10,7))\r\n",
        "plt.plot(x_range, history_x, 'o--',color='dodgerblue', label='x')\r\n",
        "plt.plot(x_range, history_x_prime,'D--', color='orange', label='x\\'')\r\n",
        "\r\n",
        "plt.title(\"Fig. 2.1 Convergent Solution\")\r\n",
        "plt.xlabel(\"Epochs\")\r\n",
        "plt.xticks(np.arange(min(x_range), max(x_range)+1, 1.0))\r\n",
        "plt.legend()\r\n",
        "plt.grid()\r\n",
        "plt.show()"
      ],
      "execution_count": null,
      "outputs": []
    },
    {
      "cell_type": "code",
      "metadata": {
        "id": "_iZsRmPSHv8I"
      },
      "source": [
        "def l(x): return np.sin(x)+np.cos(x**2)"
      ],
      "execution_count": null,
      "outputs": []
    },
    {
      "cell_type": "code",
      "metadata": {
        "id": "PjlFB8tUHyDm"
      },
      "source": [
        "x = 0\r\n",
        "epochs = 10\r\n",
        "history_x = []\r\n",
        "history_x_prime = []\r\n",
        "for epoch in range(epochs):\r\n",
        "  x_prime = l(x)\r\n",
        "  history_x.append(x)\r\n",
        "  history_x_prime.append(x_prime)\r\n",
        "  if np.allclose(x, x_prime, 1.0e-6):\r\n",
        "    break\r\n",
        "  x = x_prime"
      ],
      "execution_count": null,
      "outputs": []
    },
    {
      "cell_type": "code",
      "metadata": {
        "id": "nftr0ekFH0ws"
      },
      "source": [
        "history_x = history_x[0:]\r\n",
        "history_x_prime = history_x_prime[0:]\r\n",
        "x_range = np.arange(len(history_x),dtype=int)\r\n",
        "\r\n",
        "plt.figure(figsize=(10,7))\r\n",
        "plt.plot(x_range, history_x, 'o--',color='dodgerblue', label='x')\r\n",
        "plt.plot(x_range, history_x_prime,'D--', color='orange', label='x\\'')\r\n",
        "\r\n",
        "plt.title(\"Fig. 2.2 Divergent Solution\")\r\n",
        "plt.xlabel(\"Epochs\")\r\n",
        "plt.xticks(np.arange(min(x_range), max(x_range)+1, 1.0))\r\n",
        "plt.legend()\r\n",
        "plt.grid()\r\n",
        "plt.show()"
      ],
      "execution_count": null,
      "outputs": []
    },
    {
      "cell_type": "markdown",
      "metadata": {
        "id": "vEMOq_bRG6lN"
      },
      "source": [
        "## 2.4 Newton-Raphson Method\r\n",
        "The Newton-Raphson Method is another iterative computational method in solving for the roots of equations. Unlike the brute-force method, the Newton-Raphson method uses the updated function: \r\n",
        "$$x'=x- \\frac{f(x)}{f'(x)}\\\\ _{\\text{(Eq. 2.1.5)}}$$\r\n",
        "Whereas $x'$ is the guessed root, $f(x)$ is the equation we are solving, and $f'(x)$ is the derivative of that function. This method is more commonly used compared to the brute-force method since it converges faster.\r\n",
        "\r\n",
        "Let's try to use this sample equation for our implementation of the Newton-Raphson method:\r\n",
        "$$f(x)=2x^2-5x+3=0$$\r\n",
        "Whereas its derivative is $f'(x) = 4x-5$."
      ]
    },
    {
      "cell_type": "code",
      "metadata": {
        "id": "a1GpT1zNJJN7"
      },
      "source": [
        "def f(x): return 2*x**2 - 5*x + 3\r\n",
        "def f_prime(x): return 4*x-5"
      ],
      "execution_count": null,
      "outputs": []
    },
    {
      "cell_type": "code",
      "metadata": {
        "id": "tw6sgJUQKD7U"
      },
      "source": [
        "## Single Root\r\n",
        "epochs = 100\r\n",
        "x = 0\r\n",
        "for epoch in range(epochs):\r\n",
        "  x_new = x - (f(x)/f_prime(x))\r\n",
        "  if np.allclose(x, x_new, 1.0e-06):\r\n",
        "    break\r\n",
        "  x = x_new\r\n",
        "print(\"The root is {:.2f}\".format(x))\r\n",
        "print(epoch)"
      ],
      "execution_count": null,
      "outputs": []
    },
    {
      "cell_type": "code",
      "metadata": {
        "id": "U1w9eadxLpQX"
      },
      "source": [
        "## N roots\r\n",
        "epochs = 100\r\n",
        "n_roots = 2\r\n",
        "roots = []\r\n",
        "inits = np.arange(0,5)\r\n",
        "for init in inits:\r\n",
        "  x=init\r\n",
        "  for epoch in range(epochs):\r\n",
        "    x_new = x - (f(x)/f_prime(x))\r\n",
        "    if np.allclose(x, x_new, 1.0e-05):\r\n",
        "      roots.append(x)\r\n",
        "      break\r\n",
        "    x = x_new\r\n",
        "print(\"The roots are {}\".format(np.unique(np.around(roots,3))))\r\n",
        "print(epoch)"
      ],
      "execution_count": null,
      "outputs": []
    },
    {
      "cell_type": "markdown",
      "metadata": {
        "id": "qgUm6lTONZd6"
      },
      "source": [
        "Now let's try a more complicated equation:\r\n",
        "$$g(x)=x^2+cos^2(x)-4x \\\\ g'(x)=2x-2cos(x)sin(x)-4$$"
      ]
    },
    {
      "cell_type": "code",
      "metadata": {
        "id": "iaBWdfNkNYJS"
      },
      "source": [
        "def g(x): return x**2+np.cos(x)**2-(4*x)\r\n",
        "def g_prime(x): return 2*(x-np.cos(x)*np.sin(x)-2)"
      ],
      "execution_count": null,
      "outputs": []
    },
    {
      "cell_type": "code",
      "metadata": {
        "id": "lp2YO5G-ORNT"
      },
      "source": [
        "## Solving for N number of roots\r\n",
        "epochs = 100\r\n",
        "n_roots = 2\r\n",
        "roots = []\r\n",
        "inits = np.arange(0,5)\r\n",
        "for init in inits:\r\n",
        "  x=init\r\n",
        "  for epoch in range(epochs):\r\n",
        "    x_new = x - (g(x)/g_prime(x))\r\n",
        "    if np.allclose(x, x_new, 1.0e-05):\r\n",
        "      roots.append(x)\r\n",
        "      break\r\n",
        "    x = x_new\r\n",
        "print(\"The roots are {}\".format(np.unique(np.around(roots,3))))\r\n",
        "print(epoch)"
      ],
      "execution_count": null,
      "outputs": []
    },
    {
      "cell_type": "markdown",
      "metadata": {
        "id": "LM-4hqNYI5wd"
      },
      "source": [
        "## References\r\n",
        "[1] J.R. Hauser. (2009) *Roots of Nonlinear Equations.* Engineering Models. Springer, Dordrecht. https://doi.org/10.1007/978-1-4020-9920-5_3"
      ]
    }
  ]
}